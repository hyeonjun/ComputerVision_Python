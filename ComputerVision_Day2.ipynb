{
 "cells": [
  {
   "cell_type": "markdown",
   "metadata": {},
   "source": [
    "# 동영상 파일 다루기"
   ]
  },
  {
   "cell_type": "code",
   "execution_count": 1,
   "metadata": {},
   "outputs": [],
   "source": [
    "import cv2\n",
    "import sys"
   ]
  },
  {
   "cell_type": "markdown",
   "metadata": {},
   "source": [
    "### 드로이드캠 영상\n",
    "\n",
    "\"ip:port/mjpegfeed\""
   ]
  },
  {
   "cell_type": "code",
   "execution_count": 2,
   "metadata": {},
   "outputs": [
    {
     "name": "stdout",
     "output_type": "stream",
     "text": [
      "frame width, height = 640 480\n"
     ]
    }
   ],
   "source": [
    "cap = cv2.VideoCapture(0) # 카메라 디바이스, 동영상 파일명, 스트리밍 주소\n",
    "\n",
    "if not cap.isOpened():\n",
    "    print(\"Camera open failed!\")\n",
    "    sys.exit()\n",
    "\n",
    "w, h = int(cap.get(cv2.CAP_PROP_FRAME_WIDTH)), int(cap.get(cv2.CAP_PROP_FRAME_HEIGHT))\n",
    "print(\"frame width, height =\", w, h)\n",
    "\n",
    "while True:\n",
    "    ret, frame = cap.read()\n",
    "    if not ret:\n",
    "        break\n",
    "    \n",
    "    inversed = ~frame\n",
    "    \n",
    "    cv2.imshow('frame', frame) # 원본\n",
    "    cv2.imshow('inversed ', inversed) # 반전\n",
    "\n",
    "    if cv2.waitKey(10) == 27: # sleep 효과\n",
    "        break\n",
    "if cap.isOpened():\n",
    "    cap.release()\n",
    "cv2.destroyAllWindows()"
   ]
  },
  {
   "cell_type": "markdown",
   "metadata": {},
   "source": [
    "### 유튜브 영상"
   ]
  },
  {
   "cell_type": "markdown",
   "metadata": {},
   "source": [
    "* pafy : 비디오에서 메타 데이터 획득, 비디오/오디오를 다운로드 하는 패키지\n",
    "* youtube_dl : pafy의 backend에서 유뷰트 영상 다운로드"
   ]
  },
  {
   "cell_type": "code",
   "execution_count": 3,
   "metadata": {},
   "outputs": [],
   "source": [
    "import pafy\n",
    "import youtube_dl"
   ]
  },
  {
   "cell_type": "code",
   "execution_count": 4,
   "metadata": {},
   "outputs": [
    {
     "name": "stdout",
     "output_type": "stream",
     "text": [
      "video title : [1열 직캠🎥] 이 무대보면 엄마한테 전화하게 됩니다📞 39호X64호 엄마와 딸 '엄마가 딸에게' | 이 조합.. 반칙...눈물 치트키잖아요 💧| 싱어게인2\n",
      "video rating : None\n",
      "video viewcount : 283178\n",
      "video author : 싱어게인 전체공개\n",
      "video length : 218\n",
      "video duration : 00:03:38\n",
      "video likes : 5400\n"
     ]
    }
   ],
   "source": [
    "url = 'https://www.youtube.com/watch?v=wsEER8owz5U'\n",
    "video = pafy.new(url)\n",
    "print(\"video title : {}\".format(video.title))  # 제목\n",
    "print(\"video rating : {}\".format(video.rating))  # 평점\n",
    "print(\"video viewcount : {}\".format(video.viewcount))  # 조회수\n",
    "print(\"video author : {}\".format(video.author))  # 저작권자\n",
    "print(\"video length : {}\".format(video.length))  # 길이\n",
    "print(\"video duration : {}\".format(video.duration))  # 길이\n",
    "print(\"video likes : {}\".format(video.likes)) # 좋아요"
   ]
  },
  {
   "cell_type": "code",
   "execution_count": 5,
   "metadata": {},
   "outputs": [],
   "source": [
    "best = video.getbest()\n",
    "# best.url # download 가능한 url\n",
    "# best.resolution # video 해상도"
   ]
  },
  {
   "cell_type": "code",
   "execution_count": 6,
   "metadata": {},
   "outputs": [
    {
     "name": "stdout",
     "output_type": "stream",
     "text": [
      "frame width, height = 640 360\n"
     ]
    }
   ],
   "source": [
    "cap = cv2.VideoCapture(best.url) # 카메라 디바이스, 동영상 파일명, 스트리밍 주소\n",
    "\n",
    "if not cap.isOpened():\n",
    "    print(\"Camera open failed!\")\n",
    "    sys.exit()\n",
    "\n",
    "w, h = int(cap.get(cv2.CAP_PROP_FRAME_WIDTH)), int(cap.get(cv2.CAP_PROP_FRAME_HEIGHT))\n",
    "fps = cap.get(cv2.CAP_PROP_FPS)\n",
    "\n",
    "print(\"frame width, height =\", w, h)\n",
    "\n",
    "codec = cv2.VideoWriter_fourcc(*\"DIVX\")\n",
    "delay = round(1000/fps)\n",
    "\n",
    "while True:\n",
    "    ret, frame = cap.read()\n",
    "    if not ret:\n",
    "        break\n",
    "    \n",
    "    inversed = ~frame\n",
    "    \n",
    "    gray = cv2.cvtColor(frame, cv2.COLOR_BGR2GRAY)\n",
    "    edge = cv2.Canny(gray, 100, 200)\n",
    "    cv2.imshow('frame', frame) # 원본\n",
    "    cv2.imshow('inversed ', edge) # 반전\n",
    "\n",
    "    if cv2.waitKey(delay) == 27: # sleep 효과\n",
    "        break\n",
    "        \n",
    "if cap.isOpened():\n",
    "    cap.release()\n",
    "cv2.destroyAllWindows()"
   ]
  },
  {
   "cell_type": "markdown",
   "metadata": {},
   "source": [
    "# 다양한 그리기 함수"
   ]
  },
  {
   "cell_type": "markdown",
   "metadata": {},
   "source": [
    "### 직선 그리기"
   ]
  },
  {
   "cell_type": "code",
   "execution_count": 7,
   "metadata": {},
   "outputs": [],
   "source": [
    "import numpy as np"
   ]
  },
  {
   "cell_type": "code",
   "execution_count": 8,
   "metadata": {},
   "outputs": [],
   "source": [
    "# np.full(shape, value, datatype)\n",
    "img = np.full((400, 400, 3), 255, np.uint8) # 흰 배경\n",
    "\n",
    "# 선 : cv2.line(img, (시작좌표), (끝 좌표), (b, g, r), 라인두께)\n",
    "cv2.line(img, (50, 50), (200, 50), (0, 0, 255))\n",
    "cv2.line(img, (50, 100), (200, 100), (255, 0, 255), 3)\n",
    "cv2.line(img, (50, 150), (200, 150), (255, 0, 0), 10)\n",
    "\n",
    "# 기울린 선\n",
    "cv2.line(img, (250, 50), (350, 100), (0, 0, 255), 1, cv2.LINE_4)\n",
    "cv2.line(img, (250, 70), (350, 120), (255, 0, 255), 1, cv2.LINE_4)\n",
    "cv2.line(img, (250, 90), (350, 140), (255, 0, 0), 1, cv2.LINE_4)\n",
    "\n",
    "\n",
    "# 화살표 cv2.arrowedLine(img, (시작좌표), (끝 좌표), (b, g, r), 두께, tipLength=1(> 크기) )\n",
    "cv2.arrowedLine(img, (50, 200), (150, 200), (0, 0, 255))\n",
    "cv2.arrowedLine(img, (50, 250), (350, 250), (255, 0, 255))\n",
    "cv2.arrowedLine(img, (50, 300), (350, 300), (255, 0, 0), 1, tipLength=0.05)\n",
    "\n",
    "# 마커\n",
    "cv2.drawMarker(img, (50, 350), (0, 0, 255), cv2.MARKER_CROSS) # + 모양\n",
    "cv2.drawMarker(img, (100, 350), (0, 0, 255), cv2.MARKER_TILTED_CROSS) # X 모양\n",
    "cv2.drawMarker(img, (150, 350), (0, 0, 255), cv2.MARKER_STAR) # * 모양\n",
    "cv2.drawMarker(img, (200, 350), (0, 0, 255), cv2.MARKER_DIAMOND) # 마름모\n",
    "cv2.drawMarker(img, (250, 350), (0, 0, 255), cv2.MARKER_SQUARE) # 사각형\n",
    "cv2.drawMarker(img, (300, 350), (0, 0, 255), cv2.MARKER_TRIANGLE_UP) # 삼각형\n",
    "cv2.drawMarker(img, (350, 350), (0, 0, 255), cv2.MARKER_TRIANGLE_DOWN) # 역삼각형\n",
    "\n",
    "\n",
    "cv2.imshow('', img) \n",
    "cv2.waitKey()\n",
    "cv2.destroyAllWindows()"
   ]
  },
  {
   "cell_type": "markdown",
   "metadata": {},
   "source": [
    "### 도형 그리기"
   ]
  },
  {
   "cell_type": "code",
   "execution_count": 9,
   "metadata": {},
   "outputs": [],
   "source": [
    "img = np.full((400, 400, 3), 255, np.uint8) # 흰 배경\n",
    "\n",
    "# 사각형 : rectangle(넣을 공간, 상단 왼쪽 좌표, 하단 오른쪽 좌표, 선 색상, 두께(-1 : 채워진 사각형))\n",
    "cv2.rectangle(img, (50, 50), (150, 100), (0, 0, 255), 2)\n",
    "cv2.rectangle(img, (50, 150), (150, 200), (0, 0, 128), -1)\n",
    "\n",
    "# 원 : circle(img, (중심좌표), 반지름길이, 색상, 두께 또는 채움)\n",
    "cv2.circle(img, (300, 120), 30, (255, 255, 0), -1)\n",
    "cv2.circle(img, (300, 120), 60, (255, 0, 0), 3)\n",
    "\n",
    "# 타원 : ellipse(img, (중심좌표), (긴반지름, 짧은반지름), 기울기(각도), 시작도, 끝도, 색상, 선 두께 )\n",
    "cv2.ellipse(img, (120, 300), (60, 30), 20, 0, 270, (255, 255, 0), cv2.FILLED, cv2.LINE_AA) # cv2.FILLED 색 채움, cv2.LINE_AA 선\n",
    "cv2.ellipse(img, (120, 300), (100, 50), 20, 0, 360, (0, 255, 0), 2, cv2.LINE_AA)\n",
    "\n",
    "# 다각형 : polylines(img, [포인트좌표리스트], 마지막을 채울지 안채울지 True/False, 색상, 두께)\n",
    "pts = np.array([[250, 250], [300, 250], [300, 300], [350, 300], [350, 350], [250, 350]])\n",
    "cv2.polylines(img, [pts], True, (255, 0, 255), 2 )\n",
    "\n",
    "cv2.imshow('', img) \n",
    "cv2.waitKey()\n",
    "cv2.destroyAllWindows()"
   ]
  },
  {
   "cell_type": "markdown",
   "metadata": {},
   "source": [
    "### 문자열 출력하기"
   ]
  },
  {
   "cell_type": "code",
   "execution_count": 10,
   "metadata": {},
   "outputs": [],
   "source": [
    "img = np.full((500, 800, 3), 255, np.uint8) # 흰 배경\n",
    "cv2.putText(img, \"FONT_HERSHEY_SIMPLEX\", (20, 50), cv2.FONT_HERSHEY_SIMPLEX, 1, (0, 0, 255))\n",
    "cv2.putText(img, \"FONT_HERSHEY_PLAIN\", (20, 100), cv2.FONT_HERSHEY_PLAIN, 1, (0, 0, 255))\n",
    "cv2.putText(img, \"FONT_HERSHEY_DUPLEX\", (20, 150), cv2.FONT_HERSHEY_DUPLEX, 1, (0, 0, 255))\n",
    "cv2.putText(img, \"FONT_HERSHEY_COMPLEX\", (20, 200), cv2.FONT_HERSHEY_COMPLEX, 1, (255, 0, 0))\n",
    "cv2.putText(img, \"FONT_HERSHEY_TRIPLEX\", (20, 250), cv2.FONT_HERSHEY_TRIPLEX, 1, (255, 0, 0))\n",
    "cv2.putText(img, \"FONT_HERSHEY_COMPLEX_SMALL\", (20, 300), cv2.FONT_HERSHEY_COMPLEX_SMALL, 1, (255, 0, 0))\n",
    "cv2.putText(img, \"FONT_HERSHEY_SCRIPT_SIMPLEX\", (20, 350), cv2.FONT_HERSHEY_SCRIPT_SIMPLEX, 1, (255, 0, 255))\n",
    "cv2.putText(img, \"FONT_HERSHEY_SCRIPT_COMPLEX\", (20, 400), cv2.FONT_HERSHEY_SCRIPT_COMPLEX, 1, (255, 0, 255))\n",
    "cv2.putText(img, \"FONT_HERSHEY_COMPLEX | FONT_ITALIC\", (20, 450), cv2.FONT_HERSHEY_COMPLEX | cv2.FONT_ITALIC, 1, (255, 0, 0))\n",
    "\n",
    "cv2.imshow('', img) \n",
    "cv2.waitKey()\n",
    "cv2.destroyAllWindows()"
   ]
  },
  {
   "cell_type": "code",
   "execution_count": 11,
   "metadata": {},
   "outputs": [],
   "source": [
    "img = np.full((200, 640, 3), 255, np.uint8) # 흰 배경\n",
    "\n",
    "text = \"Hello, OpenCV\"\n",
    "fontFace = cv2.FONT_HERSHEY_TRIPLEX\n",
    "fontScale = 2.0\n",
    "thickness = 1\n",
    "sizeText, _ = cv2.getTextSize(text, fontFace, fontScale, thickness)\n",
    "# sizeText[0] : width\n",
    "# sizeText[1] : height\n",
    "\n",
    "org = (img.shape[1] - sizeText[0]) // 2, (img.shape[0] + sizeText[1]) // 2\n",
    "cv2.putText(img, text, org, fontFace, fontScale, (255, 0, 0), thickness)\n",
    "cv2.rectangle(img, org, (org[0]+sizeText[0], org[1]-sizeText[1]), (0, 255, 0), 1)\n",
    "\n",
    "cv2.imshow('', img) \n",
    "cv2.waitKey()\n",
    "cv2.destroyAllWindows()"
   ]
  },
  {
   "cell_type": "markdown",
   "metadata": {},
   "source": [
    "### 이미지로 영상화 - 카운트 다운"
   ]
  },
  {
   "cell_type": "code",
   "execution_count": 13,
   "metadata": {},
   "outputs": [],
   "source": [
    "fontFace = cv2.FONT_HERSHEY_TRIPLEX\n",
    "fontScale = 2.0\n",
    "thickness = 1\n",
    "\n",
    "fps = 60\n",
    "fourcc = cv2.VideoWriter_fourcc(*\"DIVX\")\n",
    "outputVideo = cv2.VideoWriter('./out/count_down.avi', fourcc, fps, (400,400))\n",
    "\n",
    "for m in range(5, 0, -1):\n",
    "    for n in range(50):\n",
    "        img = np.full((400,400,3),255,np.uint8)\n",
    "\n",
    "        text = str(m)\n",
    "        sizeText, _ = cv2.getTextSize(text , fontFace , fontScale, thickness)\n",
    "        org = (img.shape[1]-sizeText[0])//2,(img.shape[0]+sizeText[1])//2\n",
    "        cv2.putText(img,text,org,fontFace,fontScale,(255-n*5,n*5,0),thickness)\n",
    "        \n",
    "        cv2.circle(img,(200,200),50 ,(250-n*5,0,n*5),3)\n",
    "        cv2.circle(img,(200,200),75 ,(n*5,250-n*5,0),3)\n",
    "        cv2.circle(img,(200,200),100 ,(0,n*5,250-n*5),3)\n",
    "        cv2.circle(img,(200,200),125 ,(250-n*5,0,n*5),3)\n",
    "        cv2.circle(img,(200,200),150 ,(n*5,250-n*5,0),3)\n",
    "        cv2.circle(img,(200,200),175 ,(0,n*5,250-n*5),3)\n",
    "        cv2.circle(img,(200,200),200 ,(250-n*5,0,n*5),3)\n",
    "        cv2.circle(img,(200,200),225 ,(n*5,250-n*5,0),3)\n",
    "        cv2.circle(img,(200,200),250 ,(0,n*5,250-n*5),3)\n",
    "        \n",
    "        outputVideo.write(img)\n",
    "        cv2.imshow(\"img\",img)\n",
    "        \n",
    "        if cv2.waitKey(30) == 27: #sleep 효과\n",
    "            break\n",
    "\n",
    "outputVideo.release()       \n",
    "cv2.destroyAllWindows()"
   ]
  },
  {
   "cell_type": "code",
   "execution_count": 14,
   "metadata": {},
   "outputs": [],
   "source": [
    "img = np.full((512,512,3),255,np.uint8)\n",
    "cx, cy = img.shape[0]//2, img.shape[1]//2\n",
    "fontFace = cv2.FONT_HERSHEY_TRIPLEX\n",
    "fontScale = 5\n",
    "\n",
    "frame_size = img.shape[0], img.shape[1]\n",
    "fps = 1\n",
    "fourcc = cv2.VideoWriter_fourcc(*\"DIVX\")\n",
    "countdown_writer = cv2.VideoWriter(\"./out/count_down2.avi\", fourcc, fps, frame_size)\n",
    "\n",
    "for count in range(5, 0, -1):\n",
    "    text = str(count)\n",
    "    sizeText, _ = cv2.getTextSize(text, fontFace, fontScale, thickness)\n",
    "    org = (img.shape[1]-sizeText[0])//2,(img.shape[0]+sizeText[1])//2\n",
    "    cv2.putText(img, text, org, fontFace, fontScale, (255, 0, 0), 3)\n",
    "    cv2.circle(img, (cx, cy), int(np.max(sizeText) * count * 0.5), (255, 255, 0), 4)\n",
    "    countdown_writer.write(img)\n",
    "    \n",
    "    cv2.imshow(\"img\", img)\n",
    "    cv2.waitKey(1000)\n",
    "    img = np.full((512,512,3),255,np.uint8)\n",
    "countdown_writer.release()\n",
    "cv2.destroyAllWindows()"
   ]
  },
  {
   "cell_type": "markdown",
   "metadata": {},
   "source": [
    "# 이벤트 처리\n",
    "\n",
    "### Keyboard Event"
   ]
  },
  {
   "cell_type": "code",
   "execution_count": 15,
   "metadata": {},
   "outputs": [],
   "source": [
    "img = cv2.imread('./data/lenna.bmp')\n",
    "\n",
    "if img is None:\n",
    "    print(\"Image load failed!\")\n",
    "    sys.exit()\n",
    "\n",
    "cv2.imshow(\"img\", img)\n",
    "    \n",
    "while True:\n",
    "    keycode = cv2.waitKey()\n",
    "    if keycode == ord('i') or keycode == ord('I'):\n",
    "        img = ~img\n",
    "        cv2.imshow(\"img\", img)\n",
    "    elif keycode == ord('q') or keycode == ord('q'):\n",
    "        break\n",
    "cv2.destroyAllWindows()"
   ]
  },
  {
   "cell_type": "code",
   "execution_count": 16,
   "metadata": {},
   "outputs": [],
   "source": [
    "img = np.full((512,512,3),255,np.uint8)\n",
    "x, y = img.shape[0]//2, img.shape[1]//2\n",
    "R = 50\n",
    "direction = 0\n",
    "speed = 5\n",
    "while True:\n",
    "    keycode = cv2.waitKeyEx()\n",
    "    if keycode == 27:\n",
    "        break\n",
    "    \n",
    "    elif keycode == 0x270000: # right 키\n",
    "        direction = 0\n",
    "    elif keycode == 0x280000: # down 키\n",
    "        direction = 1\n",
    "    elif keycode == 0x250000: # left 키\n",
    "        direction = 2\n",
    "    elif keycode == 0x260000: # up 키\n",
    "        direction = 3\n",
    "    \n",
    "    if direction == 0:\n",
    "        x += speed\n",
    "    elif direction == 1:\n",
    "        y += speed\n",
    "    elif direction == 2:\n",
    "        x -= speed\n",
    "    elif direction == 3:\n",
    "        y -= speed\n",
    "    \n",
    "    if x < R:\n",
    "        x = R\n",
    "        direction = 0\n",
    "    if x > img.shape[0] - R:\n",
    "        x = img.shape[0] - R\n",
    "        direction = 2\n",
    "    if y < R:\n",
    "        y = R\n",
    "        direction = 1\n",
    "    if y > img.shape[1] - R:\n",
    "        y = img.shape[1] - R\n",
    "        direction = 3\n",
    "    \n",
    "        \n",
    "    cv2.circle(img, (x,y), R, (0, 0, 255), -1)\n",
    "    cv2.imshow('img', img)\n",
    "    cv2.waitKey(1000)\n",
    "    img = np.full((512,512,3),255,np.uint8)\n",
    "    \n",
    "cv2.destroyAllWindows()"
   ]
  },
  {
   "cell_type": "markdown",
   "metadata": {},
   "source": [
    "### Mouse Event"
   ]
  },
  {
   "cell_type": "code",
   "execution_count": 17,
   "metadata": {},
   "outputs": [],
   "source": [
    "def on_mouse(event, x, y, flags, params):\n",
    "    global old_x, old_y\n",
    "    if event == cv2.EVENT_LBUTTONDOWN:\n",
    "        old_x, old_y = x, y\n",
    "    elif event == cv2.EVENT_LBUTTONUP:\n",
    "        pass\n",
    "    elif event == cv2.EVENT_MOUSEMOVE:\n",
    "        if flags & cv2.EVENT_FLAG_LBUTTON:\n",
    "            cv2.line(img, (old_x, old_y), (x, y), (0, 255, 255), 2)\n",
    "            cv2.imshow(\"img\", img)\n",
    "            old_x, old_y = x, y\n",
    "\n",
    "img = cv2.imread('./data/lenna.bmp')\n",
    "\n",
    "if img is None:\n",
    "    print(\"Image load failed!\")\n",
    "    sys.exit()\n",
    "\n",
    "cv2.namedWindow(\"img\")\n",
    "cv2.setMouseCallback(\"img\", on_mouse)\n",
    "\n",
    "cv2.imshow(\"img\", img)  \n",
    "cv2.waitKey()\n",
    "cv2.destroyAllWindows()"
   ]
  },
  {
   "cell_type": "code",
   "execution_count": 18,
   "metadata": {},
   "outputs": [],
   "source": [
    "# 왼쪽 버튼 다운 : cv2.EVENT_LBUTTONDOWN\n",
    "# 오른쪽 버튼 다운 : cv2.EVENT_RBUTTONDOWN\n",
    "# 왼쪽 버튼 더블 클릭 : cv2.EVENT_LBUTTONDBLCLK\n",
    "# shift key : cv2.EVENT_FLAG_SHIFTKEY\n",
    "\n",
    "# 왼쪽 클릭 : 동그라미, shift+왼쪽 : 파란 네모, 오른쪽 버튼 : 빨간 동그라미, 더블클릭 : 없어지게\n",
    "\n",
    "def onMouse(event, x, y, flags, params):\n",
    "    if event == cv2.EVENT_LBUTTONDOWN:\n",
    "        if flags & cv2.EVENT_FLAG_SHIFTKEY:\n",
    "            cv2.rectangle(params[0], (x-5, y-5), (x+5, y+5), (255, 0, 0))\n",
    "        else:\n",
    "            cv2.circle(img, (x, y), 5, (255, 0, 0), 3) \n",
    "            \n",
    "    elif event == cv2.EVENT_RBUTTONDOWN:\n",
    "        cv2.circle(params[0], (x, y), 5, (0, 0, 255), 2) \n",
    "        \n",
    "    elif event == cv2.EVENT_LBUTTONDBLCLK:\n",
    "        params[0] = np.full((400,400,3),255,np.uint8)\n",
    "        \n",
    "    cv2.imshow(\"img\", params[0]) \n",
    "\n",
    "img = np.full((400,400,3),255,np.uint8)\n",
    "\n",
    "cv2.imshow(\"img\", img)  \n",
    "cv2.setMouseCallback(\"img\", onMouse, [img])\n",
    "\n",
    "cv2.waitKey()\n",
    "cv2.destroyAllWindows()"
   ]
  },
  {
   "cell_type": "code",
   "execution_count": 22,
   "metadata": {},
   "outputs": [],
   "source": [
    "def onMouse(event, x, y, flags, params):\n",
    "    global img\n",
    "    if event == cv2.EVENT_LBUTTONDOWN:\n",
    "        if flags & cv2.EVENT_FLAG_SHIFTKEY:\n",
    "            cv2.rectangle(img, (x-5, y-5), (x+5, y+5), (255, 0, 0))\n",
    "        else:\n",
    "            cv2.circle(img, (x, y), 5, (255, 0, 0), 3) \n",
    "            \n",
    "    elif event == cv2.EVENT_RBUTTONDOWN:\n",
    "        cv2.circle(img, (x, y), 5, (0, 0, 255), 2) \n",
    "        \n",
    "    elif event == cv2.EVENT_LBUTTONDBLCLK:\n",
    "        img = np.full((400,400,3),255,np.uint8)\n",
    "\n",
    "    cv2.imshow(\"img\", img) \n",
    "\n",
    "img = np.full((400,400,3),255,np.uint8)\n",
    "\n",
    "cv2.imshow(\"img\", img)  \n",
    "cv2.setMouseCallback(\"img\", onMouse, [img])\n",
    "\n",
    "cv2.waitKey()\n",
    "cv2.destroyAllWindows()"
   ]
  },
  {
   "cell_type": "markdown",
   "metadata": {},
   "source": [
    "### Trackbar"
   ]
  },
  {
   "cell_type": "code",
   "execution_count": 20,
   "metadata": {},
   "outputs": [],
   "source": [
    "def saturated(value):\n",
    "    if value > 256:\n",
    "        value = 256\n",
    "    elif value < 0:\n",
    "        value = 0\n",
    "    return value\n",
    "\n",
    "def on_level_change(pos):\n",
    "    img[:] = saturated(pos * 16)\n",
    "    cv2.imshow(\"img\", img)\n",
    "\n",
    "img = np.full((512,512,3),255,np.uint8)\n",
    "cv2.imshow(\"img\", img)\n",
    "\n",
    "cv2.createTrackbar('level', 'img', 0, 16, on_level_change) # createTrackbar(이름, 적용할프레임명, 초기값, 끝값, 사용함수)\n",
    "cv2.setTrackbarPos('level', 'img', 8) # 트랙바 값 재설정\n",
    "\n",
    "cv2.waitKey()\n",
    "cv2.destroyAllWindows()"
   ]
  },
  {
   "cell_type": "code",
   "execution_count": 21,
   "metadata": {},
   "outputs": [],
   "source": [
    "def getTrackbarPos(name, frame):\n",
    "    return cv2.getTrackbarPos(name, frame)\n",
    "\n",
    "def on_level_change(pos):\n",
    "    R, G, B = getTrackbarPos('R', 'img'), getTrackbarPos('G', 'img'), getTrackbarPos('B', 'img')\n",
    "    img[:] = (B, G, R)\n",
    "    cv2.imshow(\"img\", img)\n",
    "\n",
    "img = np.full((512,512,3),255,np.uint8)\n",
    "cv2.imshow(\"img\", img)\n",
    "\n",
    "cv2.createTrackbar('R', 'img', 0, 255, on_level_change)\n",
    "cv2.createTrackbar('G', 'img', 0, 255, on_level_change)\n",
    "cv2.createTrackbar('B', 'img', 0, 255, on_level_change)\n",
    "cv2.setTrackbarPos('B', 'img', 255) # 트랙바 값 재설정\n",
    "\n",
    "cv2.waitKey()\n",
    "cv2.destroyAllWindows()"
   ]
  }
 ],
 "metadata": {
  "kernelspec": {
   "display_name": "Python 3",
   "language": "python",
   "name": "python3"
  },
  "language_info": {
   "codemirror_mode": {
    "name": "ipython",
    "version": 3
   },
   "file_extension": ".py",
   "mimetype": "text/x-python",
   "name": "python",
   "nbconvert_exporter": "python",
   "pygments_lexer": "ipython3",
   "version": "3.8.5"
  }
 },
 "nbformat": 4,
 "nbformat_minor": 4
}
