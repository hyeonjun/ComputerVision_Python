{
 "cells": [
  {
   "cell_type": "markdown",
   "metadata": {},
   "source": [
    "### 영상 다루기"
   ]
  },
  {
   "cell_type": "code",
   "execution_count": 1,
   "metadata": {},
   "outputs": [
    {
     "data": {
      "text/plain": [
       "(640, 480)"
      ]
     },
     "execution_count": 1,
     "metadata": {},
     "output_type": "execute_result"
    }
   ],
   "source": [
    "import cv2 as cv\n",
    "import numpy\n",
    "import matplotlib.pyplot as plt\n",
    "cap = cv.VideoCapture(0) # 카메라 디바이스, 동영상 파일명, 스트리밍 주소\n",
    "w = int(cap.get(cv.CAP_PROP_FRAME_WIDTH))\n",
    "h = int(cap.get(cv.CAP_PROP_FRAME_HEIGHT))\n",
    "w, h"
   ]
  },
  {
   "cell_type": "code",
   "execution_count": 2,
   "metadata": {},
   "outputs": [
    {
     "name": "stdout",
     "output_type": "stream",
     "text": [
      "True\n"
     ]
    }
   ],
   "source": [
    "print(cap.isOpened())"
   ]
  },
  {
   "cell_type": "code",
   "execution_count": 3,
   "metadata": {},
   "outputs": [],
   "source": [
    "while True:\n",
    "    ret, frame = cap.read()\n",
    "    if not ret:\n",
    "        break\n",
    "    cv.imshow('', frame)\n",
    "    if cv.waitKey(10) == 27: # sleep 효과\n",
    "        break\n",
    "if cap.isOpened():\n",
    "    cap.release()\n",
    "cv.destroyAllWindows()"
   ]
  },
  {
   "cell_type": "code",
   "execution_count": 4,
   "metadata": {},
   "outputs": [
    {
     "name": "stdout",
     "output_type": "stream",
     "text": [
      "frame width, height = 640 480\n"
     ]
    }
   ],
   "source": [
    "cap = cv.VideoCapture('./data/stopwatch.avi') # 카메라 디바이스, 동영상 파일명, 스트리밍 주소\n",
    "if not cap.isOpened():\n",
    "    print('Camera open failed!!!')\n",
    "    \n",
    "w, h = int(cap.get(cv.CAP_PROP_FRAME_WIDTH)), int(cap.get(cv.CAP_PROP_FRAME_HEIGHT))\n",
    "print(\"frame width, height =\", w, h)\n",
    "\n",
    "while True:\n",
    "    ret, frame = cap.read()\n",
    "    if not ret:\n",
    "        break\n",
    "    frame_ = cv.flip(frame, 1) # 좌우 대칭\n",
    "    cv.imshow('', frame_)\n",
    "    if cv.waitKey(10) == 27: # sleep 효과\n",
    "        break\n",
    "if cap.isOpened():\n",
    "    cap.release()\n",
    "cv.destroyAllWindows()"
   ]
  },
  {
   "cell_type": "code",
   "execution_count": 5,
   "metadata": {},
   "outputs": [
    {
     "name": "stdout",
     "output_type": "stream",
     "text": [
      "frame width, height = 640 480\n",
      "fps : 30.0\n"
     ]
    }
   ],
   "source": [
    "# 색 반전\n",
    "cap = cv.VideoCapture('./data/stopwatch.avi') # 카메라 디바이스, 동영상 파일명, 스트리밍 주소\n",
    "if not cap.isOpened():\n",
    "    print('Camera open failed!!!')\n",
    "    \n",
    "w, h = int(cap.get(cv.CAP_PROP_FRAME_WIDTH)), int(cap.get(cv.CAP_PROP_FRAME_HEIGHT))\n",
    "fps = cap.get(cv.CAP_PROP_FPS)\n",
    "\n",
    "print(\"frame width, height =\", w, h)\n",
    "print(\"fps :\", fps)\n",
    "\n",
    "while True:\n",
    "    ret, frame = cap.read()\n",
    "    if not ret:\n",
    "        break\n",
    "    \n",
    "    inversed = ~frame\n",
    "    \n",
    "    cv.imshow('frame', frame) # 원본\n",
    "    cv.imshow('inversed ', inversed) # 반전\n",
    "\n",
    "    if cv.waitKey(10) == 27: # sleep 효과\n",
    "        break\n",
    "if cap.isOpened():\n",
    "    cap.release()\n",
    "cv.destroyAllWindows()"
   ]
  },
  {
   "cell_type": "code",
   "execution_count": 6,
   "metadata": {},
   "outputs": [
    {
     "name": "stdout",
     "output_type": "stream",
     "text": [
      "frame width, height = 640 480\n",
      "fps : 30.0\n"
     ]
    }
   ],
   "source": [
    "cap = cv.VideoCapture('./data/stopwatch.avi') # 카메라 디바이스, 동영상 파일명, 스트리밍 주소\n",
    "if not cap.isOpened():\n",
    "    print('Camera open failed!!!')\n",
    "    \n",
    "w, h = int(cap.get(cv.CAP_PROP_FRAME_WIDTH)), int(cap.get(cv.CAP_PROP_FRAME_HEIGHT))\n",
    "fps = cap.get(cv.CAP_PROP_FPS)\n",
    "\n",
    "print(\"frame width, height =\", w, h)\n",
    "print(\"fps :\", fps)\n",
    "\n",
    "delay = round(1000/fps)\n",
    "\n",
    "while True:\n",
    "    ret, frame = cap.read()\n",
    "    if not ret:\n",
    "        break\n",
    "    \n",
    "    inversed = ~frame\n",
    "    \n",
    "    cv.imshow('frame', frame) # 원본\n",
    "    cv.imshow('inversed ', inversed) # 반전\n",
    "\n",
    "    if cv.waitKey(delay) == 27: # sleep 효과\n",
    "        break\n",
    "if cap.isOpened():\n",
    "    cap.release()\n",
    "cv.destroyAllWindows()"
   ]
  },
  {
   "cell_type": "markdown",
   "metadata": {},
   "source": [
    "### 동영상 저장"
   ]
  },
  {
   "cell_type": "code",
   "execution_count": 7,
   "metadata": {},
   "outputs": [
    {
     "name": "stdout",
     "output_type": "stream",
     "text": [
      "frame width, height = 640 480\n",
      "fps : 30.0\n"
     ]
    }
   ],
   "source": [
    "import sys\n",
    "\n",
    "cap = cv.VideoCapture(0) # 카메라 디바이스, 동영상 파일명, 스트리밍 주소\n",
    "if not cap.isOpened():\n",
    "    print('Camera open failed!!!')\n",
    "    sys.exit()\n",
    "    \n",
    "w, h = int(cap.get(cv.CAP_PROP_FRAME_WIDTH)), int(cap.get(cv.CAP_PROP_FRAME_HEIGHT))\n",
    "fps = cap.get(cv.CAP_PROP_FPS)\n",
    "\n",
    "print(\"frame width, height =\", w, h)\n",
    "print(\"fps :\", fps)\n",
    "\n",
    "codec = cv.VideoWriter_fourcc(*\"DIVX\")\n",
    "outputVideo = cv.VideoWriter('./out/output2.avi', codec, fps, (w, h))\n",
    "\n",
    "while True:\n",
    "    ret, frame = cap.read()\n",
    "    \n",
    "    if not ret:\n",
    "        break\n",
    "    \n",
    "    inversed = ~frame\n",
    "    outputVideo.write(inversed)\n",
    "    \n",
    "    cv.imshow('frame', frame) # 원본\n",
    "    cv.imshow('inversed ', inversed) # 반전\n",
    "\n",
    "    if cv.waitKey(10) == 27: # sleep 효과\n",
    "        break\n",
    "        \n",
    "if cap.isOpened():\n",
    "    cap.release()\n",
    "outputVideo.release()\n",
    "cv.destroyAllWindows()"
   ]
  }
 ],
 "metadata": {
  "kernelspec": {
   "display_name": "Python 3",
   "language": "python",
   "name": "python3"
  },
  "language_info": {
   "codemirror_mode": {
    "name": "ipython",
    "version": 3
   },
   "file_extension": ".py",
   "mimetype": "text/x-python",
   "name": "python",
   "nbconvert_exporter": "python",
   "pygments_lexer": "ipython3",
   "version": "3.8.5"
  }
 },
 "nbformat": 4,
 "nbformat_minor": 4
}
